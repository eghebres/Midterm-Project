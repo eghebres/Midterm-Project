{
 "cells": [
  {
   "cell_type": "code",
   "execution_count": null,
   "id": "c65fbc29",
   "metadata": {},
   "outputs": [],
   "source": [
    "# EUROPEAN SOCIAL SURVEY ROUND 8 (2016)\n",
    "# PUT IN MORE COMMENTS AND WRITE A FUNCTION THAT WORKS FOR CLEANING THESE WEIRDLY ENCODED MISSING VALUES\n"
   ]
  },
  {
   "cell_type": "code",
   "execution_count": null,
   "id": "e614899f",
   "metadata": {},
   "outputs": [],
   "source": [
    "# any numbers: nwspol, netustm, yrbrn\n",
    "# 6666 not applicable\n",
    "# 7777 refusal\n",
    "# 8888 don't know \n",
    "# 9999 no answer\n",
    "\n",
    "\n",
    "# 0 - 40 years: eduyrs\n",
    "# 66\n",
    "# 77\n",
    "# 88\n",
    "# 99\n",
    "\n",
    "\n",
    "# 0 - 10 (0 = fully reject, 10 = fully agree) \n",
    "# ppltrst, trstprl, trstlgl, trstplt, trstprt, trstep, trstun, stfeco, stfedu,euftf,atchctr\n",
    "# \n",
    "# 66\n",
    "# 77\n",
    "# 88\n",
    "# 99\n",
    "\n",
    "# 1 - 4 (1 = very interested, 4 = not interested)\n",
    "# polintr, \n",
    "\n",
    "\n",
    "\n",
    "\n",
    "# 1 - 5 (1 = not at all, 5 = a great deal)\n",
    "# psppsgva, actorlga, cptppola, \n",
    "\n",
    "\n",
    "# 1 Male, 2 Female, 9 No answer: gndr, vote\n",
    "# 3 not eligible, 7 refusal, 8 don't know\n",
    "\n",
    "# 1 Yes 2 No \n",
    "# uemp12m, brncntr, ctzcntr, dscrgrp, facntr, mocntr\n",
    "# 7 refusal, 8 don't know, 9 no answer"
   ]
  },
  {
   "cell_type": "code",
   "execution_count": null,
   "id": "0fb5bd6c",
   "metadata": {},
   "outputs": [],
   "source": [
    "import numpy as np # linear algebra\n",
    "import pandas as pd # data processing\n",
    "from mpl_toolkits.mplot3d import Axes3D\n",
    "from sklearn.preprocessing import StandardScaler\n",
    "import matplotlib.pyplot as plt # plotting\n",
    "import os # accessing directory structure\n",
    "import matplotlib.pyplot as plt\n",
    "import seaborn as sns"
   ]
  },
  {
   "cell_type": "code",
   "execution_count": null,
   "id": "4b65a909",
   "metadata": {},
   "outputs": [],
   "source": [
    "df = pd.read_csv('ESS8e02_2.csv')\n",
    "df"
   ]
  },
  {
   "cell_type": "code",
   "execution_count": null,
   "id": "3f9ee35a",
   "metadata": {},
   "outputs": [],
   "source": [
    "df.info()\n"
   ]
  },
  {
   "cell_type": "code",
   "execution_count": null,
   "id": "bda75fca",
   "metadata": {},
   "outputs": [],
   "source": [
    "df['cntry'].unique()\n"
   ]
  },
  {
   "cell_type": "code",
   "execution_count": null,
   "id": "7925d7c4",
   "metadata": {},
   "outputs": [],
   "source": [
    "df.columns\n"
   ]
  },
  {
   "cell_type": "code",
   "execution_count": null,
   "id": "b53d2015",
   "metadata": {},
   "outputs": [],
   "source": [
    "df.head()"
   ]
  },
  {
   "cell_type": "code",
   "execution_count": null,
   "id": "5614e97b",
   "metadata": {},
   "outputs": [],
   "source": [
    "df.tail(5)\n"
   ]
  },
  {
   "cell_type": "code",
   "execution_count": null,
   "id": "41de2f6b",
   "metadata": {},
   "outputs": [],
   "source": [
    "data = df[['cntry','nwspol', 'netustm', 'ppltrst', 'gndr', 'yrbrn', 'agea', 'intewde', 'polintr', 'psppsgva', 'cptppola', 'actrolga', 'trstprl', 'trstlgl', 'trstplt', 'trstprt', 'trstep', 'trstun', 'vote', 'stfeco', 'stfedu', 'euftf', 'atchctr', 'atcherp', 'dscrgrp', 'happy', 'brncntr', 'facntr', 'mocntr', 'ctzcntr', 'eduyrs', 'uemp12m']]"
   ]
  },
  {
   "cell_type": "code",
   "execution_count": null,
   "id": "f620f8c0",
   "metadata": {},
   "outputs": [],
   "source": [
    "data.head()"
   ]
  },
  {
   "cell_type": "code",
   "execution_count": null,
   "id": "08cd44e0",
   "metadata": {},
   "outputs": [],
   "source": [
    "data = data.drop(columns=df.columns[df.isnull().mean() == 1])\n"
   ]
  },
  {
   "cell_type": "code",
   "execution_count": null,
   "id": "8ccb3aaa",
   "metadata": {},
   "outputs": [],
   "source": [
    "def cols_with_missing_rounds(data):\n",
    "    '''\n",
    "    INPUT\n",
    "    df - Pandas dataframe \n",
    "    \n",
    "    OUTPUT\n",
    "    df_r[cols_with_missing_round] - An aggregated pandas dataframe (per ess round) with all variables that lack values in at least one round\n",
    "    cols_with_missing_round - The corresponding list of columnnames\n",
    "    \n",
    "    This function\n",
    "    1. aggregates the df by counting it's entries per round and column into df_r\n",
    "    2. identifies all columns with at least on round of missing values\n",
    "    3. reduces the aggregated df_r to those columns with missing rounds \n",
    "    '''\n",
    "    data_r = data.groupby('essround').count()\n",
    "    cols_with_missing_round = []\n",
    "    for c in data_r.columns:\n",
    "        if 0 in data_r[c].unique():\n",
    "            cols_with_missing_round.append(c)\n",
    "    return data_r[cols_with_missing_round], cols_with_missing_round"
   ]
  },
  {
   "cell_type": "code",
   "execution_count": null,
   "id": "e9d8fdac",
   "metadata": {},
   "outputs": [],
   "source": [
    "pd.set_option('display.max_columns', None)\n",
    "data.head()"
   ]
  },
  {
   "cell_type": "code",
   "execution_count": null,
   "id": "91a4ae13",
   "metadata": {},
   "outputs": [],
   "source": [
    "# #template\n",
    "# #define values\n",
    "# values = [value1, value2, value3, ...]\n",
    "\n",
    "# #drop rows that contain any value in the list\n",
    "# df = df[df.column_name.isin(values) == False]"
   ]
  },
  {
   "cell_type": "code",
   "execution_count": null,
   "id": "243cfd87",
   "metadata": {},
   "outputs": [],
   "source": [
    "#drop rows that contain any value in the list\n",
    "#re-do and write function! much easier to clean the different missing values, than doing it this way\n",
    "#write function after bootcamp\n",
    "\n",
    "values = [6666, 7777, 8888, 9999]\n",
    "\n",
    "data1 = data[data.nwspol.isin(values) == False]"
   ]
  },
  {
   "cell_type": "code",
   "execution_count": null,
   "id": "05233827",
   "metadata": {},
   "outputs": [],
   "source": [
    "plt.figure(figsize=(12, 8))\n",
    "sns.barplot(x=data1['cntry'], y=data1.nwspol)\n",
    "plt.xlabel(\"\")"
   ]
  },
  {
   "cell_type": "code",
   "execution_count": null,
   "id": "48b76056",
   "metadata": {},
   "outputs": [],
   "source": [
    "plt.figure(figsize=(12, 8))\n",
    "sns.barplot(x=data['cntry'], y=data.trstlgl)\n",
    "plt.xlabel(\"\")"
   ]
  },
  {
   "cell_type": "code",
   "execution_count": null,
   "id": "6f98eb11",
   "metadata": {},
   "outputs": [],
   "source": [
    "plt.figure(figsize=(12, 8))\n",
    "sns.barplot(x=data['cntry'], y=data.ppltrst)\n",
    "plt.xlabel(\"\")"
   ]
  },
  {
   "cell_type": "code",
   "execution_count": null,
   "id": "72eed4b4",
   "metadata": {},
   "outputs": [],
   "source": []
  },
  {
   "cell_type": "code",
   "execution_count": null,
   "id": "f72fad22",
   "metadata": {},
   "outputs": [],
   "source": [
    "data.to_csv('clean.csv')"
   ]
  },
  {
   "cell_type": "code",
   "execution_count": null,
   "id": "a988e7bf",
   "metadata": {},
   "outputs": [],
   "source": []
  },
  {
   "cell_type": "code",
   "execution_count": null,
   "id": "16306346",
   "metadata": {},
   "outputs": [],
   "source": []
  },
  {
   "cell_type": "code",
   "execution_count": null,
   "id": "34feeb7e",
   "metadata": {},
   "outputs": [],
   "source": []
  },
  {
   "cell_type": "code",
   "execution_count": null,
   "id": "c017572d",
   "metadata": {},
   "outputs": [],
   "source": []
  }
 ],
 "metadata": {
  "kernelspec": {
   "display_name": "Python 3 (ipykernel)",
   "language": "python",
   "name": "python3"
  },
  "language_info": {
   "codemirror_mode": {
    "name": "ipython",
    "version": 3
   },
   "file_extension": ".py",
   "mimetype": "text/x-python",
   "name": "python",
   "nbconvert_exporter": "python",
   "pygments_lexer": "ipython3",
   "version": "3.9.12"
  }
 },
 "nbformat": 4,
 "nbformat_minor": 5
}
